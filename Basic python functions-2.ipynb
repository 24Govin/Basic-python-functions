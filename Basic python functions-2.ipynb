{
 "cells": [
  {
   "cell_type": "code",
   "execution_count": 70,
   "id": "d1395dfe",
   "metadata": {},
   "outputs": [],
   "source": [
    "# simple equation 4x+2=24\n",
    "def simple_equation(a,b,c):\n",
    "    x = (c-b)/a\n",
    "    return x"
   ]
  },
  {
   "cell_type": "code",
   "execution_count": 72,
   "id": "7dc09060",
   "metadata": {},
   "outputs": [
    {
     "name": "stdout",
     "output_type": "stream",
     "text": [
      "5.5\n"
     ]
    }
   ],
   "source": [
    "r = simple_equation(4,2,24)\n",
    "print(r)"
   ]
  },
  {
   "cell_type": "code",
   "execution_count": 35,
   "id": "22cfaa1e",
   "metadata": {},
   "outputs": [
    {
     "data": {
      "text/plain": [
       "'HELLO ALL WELCOME TO PYTHON WORLD'"
      ]
     },
     "execution_count": 35,
     "metadata": {},
     "output_type": "execute_result"
    }
   ],
   "source": [
    "s=\"hello ALL welcome to Python world\"\n",
    "s.upper()"
   ]
  },
  {
   "cell_type": "code",
   "execution_count": 36,
   "id": "f026a73e",
   "metadata": {},
   "outputs": [
    {
     "data": {
      "text/plain": [
       "'I LOVE ALL welcome to Python world'"
      ]
     },
     "execution_count": 36,
     "metadata": {},
     "output_type": "execute_result"
    }
   ],
   "source": [
    "s.replace(\"hello\",\"I LOVE\")"
   ]
  },
  {
   "cell_type": "code",
   "execution_count": 37,
   "id": "5754daad",
   "metadata": {},
   "outputs": [
    {
     "data": {
      "text/plain": [
       "['hello', 'ALL', 'welcome', 'to', 'Python', 'world']"
      ]
     },
     "execution_count": 37,
     "metadata": {},
     "output_type": "execute_result"
    }
   ],
   "source": [
    "s.split()"
   ]
  },
  {
   "cell_type": "code",
   "execution_count": 38,
   "id": "0267efc3",
   "metadata": {},
   "outputs": [
    {
     "data": {
      "text/plain": [
       "['hello', 'ALL', 'welcome to Python world']"
      ]
     },
     "execution_count": 38,
     "metadata": {},
     "output_type": "execute_result"
    }
   ],
   "source": [
    "s.split(\" \",2)"
   ]
  },
  {
   "cell_type": "code",
   "execution_count": 39,
   "id": "be684192",
   "metadata": {},
   "outputs": [
    {
     "data": {
      "text/plain": [
       "['hello', 'ALL', 'welcome', 'to', 'Python', 'world']"
      ]
     },
     "execution_count": 39,
     "metadata": {},
     "output_type": "execute_result"
    }
   ],
   "source": [
    "s.split(\" \",8)"
   ]
  },
  {
   "cell_type": "code",
   "execution_count": 45,
   "id": "240b4b46",
   "metadata": {},
   "outputs": [
    {
     "data": {
      "text/plain": [
       "'h--e--l--l--o-- --A--L--L-- --w--e--l--c--o--m--e-- --t--o-- --P--y--t--h--o--n-- --w--o--r--l--d'"
      ]
     },
     "execution_count": 45,
     "metadata": {},
     "output_type": "execute_result"
    }
   ],
   "source": [
    "\"--\".join(s)"
   ]
  },
  {
   "cell_type": "code",
   "execution_count": 50,
   "id": "9da93487",
   "metadata": {},
   "outputs": [
    {
     "data": {
      "text/plain": [
       "-1"
      ]
     },
     "execution_count": 50,
     "metadata": {},
     "output_type": "execute_result"
    }
   ],
   "source": [
    "s.find(\"z\")"
   ]
  },
  {
   "cell_type": "code",
   "execution_count": 51,
   "id": "b67707ea",
   "metadata": {},
   "outputs": [
    {
     "data": {
      "text/plain": [
       "-1"
      ]
     },
     "execution_count": 51,
     "metadata": {},
     "output_type": "execute_result"
    }
   ],
   "source": [
    "s.find(\"H\")"
   ]
  },
  {
   "cell_type": "code",
   "execution_count": 58,
   "id": "eb87b29c",
   "metadata": {},
   "outputs": [
    {
     "data": {
      "text/plain": [
       "21"
      ]
     },
     "execution_count": 58,
     "metadata": {},
     "output_type": "execute_result"
    }
   ],
   "source": [
    "s.find(\"Python\")"
   ]
  },
  {
   "cell_type": "code",
   "execution_count": 59,
   "id": "8cb7ad6d",
   "metadata": {},
   "outputs": [
    {
     "data": {
      "text/plain": [
       "21"
      ]
     },
     "execution_count": 59,
     "metadata": {},
     "output_type": "execute_result"
    }
   ],
   "source": [
    "s.find(\"P\")"
   ]
  },
  {
   "cell_type": "code",
   "execution_count": 74,
   "id": "f9119b5f",
   "metadata": {},
   "outputs": [
    {
     "data": {
      "text/plain": [
       "1"
      ]
     },
     "execution_count": 74,
     "metadata": {},
     "output_type": "execute_result"
    }
   ],
   "source": [
    "#The result for the index location of the letter “e” is shown through the result 1 for its first occurrence.\n",
    "s.find(\"e\")"
   ]
  },
  {
   "cell_type": "code",
   "execution_count": 76,
   "id": "4571d73a",
   "metadata": {},
   "outputs": [
    {
     "data": {
      "text/plain": [
       "31"
      ]
     },
     "execution_count": 76,
     "metadata": {},
     "output_type": "execute_result"
    }
   ],
   "source": [
    "s.rfind(\"l\")"
   ]
  },
  {
   "cell_type": "code",
   "execution_count": 77,
   "id": "171c9e00",
   "metadata": {},
   "outputs": [
    {
     "data": {
      "text/plain": [
       "33"
      ]
     },
     "execution_count": 77,
     "metadata": {},
     "output_type": "execute_result"
    }
   ],
   "source": [
    "len(s)"
   ]
  },
  {
   "cell_type": "code",
   "execution_count": 78,
   "id": "b2e90f81",
   "metadata": {},
   "outputs": [
    {
     "data": {
      "text/plain": [
       "'hello ALL welcome to Python world'"
      ]
     },
     "execution_count": 78,
     "metadata": {},
     "output_type": "execute_result"
    }
   ],
   "source": [
    "s"
   ]
  },
  {
   "cell_type": "code",
   "execution_count": 89,
   "id": "b634632f",
   "metadata": {},
   "outputs": [
    {
     "name": "stdout",
     "output_type": "stream",
     "text": [
      "N\n",
      "e\n",
      "w\n",
      "y\n",
      "e\n",
      "a\n",
      "r\n",
      " \n",
      "$\n",
      "2\n",
      "0\n",
      "2\n",
      "2\n",
      "$\n"
     ]
    }
   ],
   "source": [
    "wish=\"Newyear $2022$\"\n",
    "for Letter in wish:\n",
    "    print(Letter)"
   ]
  },
  {
   "cell_type": "code",
   "execution_count": 92,
   "id": "6be2d63c",
   "metadata": {},
   "outputs": [
    {
     "name": "stdout",
     "output_type": "stream",
     "text": [
      "1\n",
      "2\n",
      "3\n",
      "4\n"
     ]
    }
   ],
   "source": [
    "for x in range(1,5):\n",
    "    print(x)\n",
    "# As we can see, the for loop and range function generated the list of numbers from 1 to 5 after the execution of the program.\n",
    "## You can notice that the number 5 in non-existentin the list. \n",
    "## This is due to the fact that in that case, it only goes from the first number up tothe last."
   ]
  },
  {
   "cell_type": "code",
   "execution_count": null,
   "id": "31c2e466",
   "metadata": {},
   "outputs": [],
   "source": []
  }
 ],
 "metadata": {
  "kernelspec": {
   "display_name": "Python 3",
   "language": "python",
   "name": "python3"
  },
  "language_info": {
   "codemirror_mode": {
    "name": "ipython",
    "version": 3
   },
   "file_extension": ".py",
   "mimetype": "text/x-python",
   "name": "python",
   "nbconvert_exporter": "python",
   "pygments_lexer": "ipython3",
   "version": "3.8.8"
  }
 },
 "nbformat": 4,
 "nbformat_minor": 5
}
