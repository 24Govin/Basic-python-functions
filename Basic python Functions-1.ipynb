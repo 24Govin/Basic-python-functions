{
 "cells": [
  {
   "cell_type": "code",
   "execution_count": 1,
   "id": "d92c121c",
   "metadata": {},
   "outputs": [
    {
     "name": "stdout",
     "output_type": "stream",
     "text": [
      "Hello, welcome to python coding\n"
     ]
    }
   ],
   "source": [
    "print(\"Hello, welcome to python coding\")"
   ]
  },
  {
   "cell_type": "code",
   "execution_count": 2,
   "id": "e00b4627",
   "metadata": {},
   "outputs": [
    {
     "name": "stdout",
     "output_type": "stream",
     "text": [
      "Hello,\n",
      " welcome to python coding\n"
     ]
    }
   ],
   "source": [
    "print(\"Hello,\\n welcome to python coding\")"
   ]
  },
  {
   "cell_type": "code",
   "execution_count": 3,
   "id": "16735929",
   "metadata": {},
   "outputs": [],
   "source": [
    "a=5\n",
    "b=2"
   ]
  },
  {
   "cell_type": "code",
   "execution_count": 4,
   "id": "4012176a",
   "metadata": {},
   "outputs": [
    {
     "name": "stdout",
     "output_type": "stream",
     "text": [
      "7\n"
     ]
    }
   ],
   "source": [
    "print(a+b)"
   ]
  },
  {
   "cell_type": "code",
   "execution_count": 5,
   "id": "0dd1e665",
   "metadata": {},
   "outputs": [
    {
     "name": "stdout",
     "output_type": "stream",
     "text": [
      "3\n"
     ]
    }
   ],
   "source": [
    "print (a-b)"
   ]
  },
  {
   "cell_type": "code",
   "execution_count": 6,
   "id": "5f2fa3b9",
   "metadata": {},
   "outputs": [
    {
     "name": "stdout",
     "output_type": "stream",
     "text": [
      "10\n"
     ]
    }
   ],
   "source": [
    "print(a*b)"
   ]
  },
  {
   "cell_type": "code",
   "execution_count": 7,
   "id": "ffafd07e",
   "metadata": {},
   "outputs": [
    {
     "name": "stdout",
     "output_type": "stream",
     "text": [
      "2.5\n"
     ]
    }
   ],
   "source": [
    "print(a/b)"
   ]
  },
  {
   "cell_type": "code",
   "execution_count": 8,
   "id": "0daab5c8",
   "metadata": {},
   "outputs": [
    {
     "name": "stdout",
     "output_type": "stream",
     "text": [
      "2\n"
     ]
    }
   ],
   "source": [
    "print(a//b)"
   ]
  },
  {
   "cell_type": "code",
   "execution_count": 9,
   "id": "fe80a51a",
   "metadata": {},
   "outputs": [
    {
     "name": "stdout",
     "output_type": "stream",
     "text": [
      "1\n"
     ]
    }
   ],
   "source": [
    "print(a%b)"
   ]
  },
  {
   "cell_type": "code",
   "execution_count": 10,
   "id": "ecfac002",
   "metadata": {},
   "outputs": [
    {
     "name": "stdout",
     "output_type": "stream",
     "text": [
      "25\n"
     ]
    }
   ],
   "source": [
    "print(a**b)"
   ]
  },
  {
   "cell_type": "code",
   "execution_count": 11,
   "id": "bb5a0460",
   "metadata": {},
   "outputs": [
    {
     "name": "stdout",
     "output_type": "stream",
     "text": [
      "1.5\n"
     ]
    }
   ],
   "source": [
    "# BEDMAS rule : standing for Brackets, Exponents, Division/Multiplication, Addition/Subtraction\n",
    "## (additional study : https://en.wikipedia.org/wiki/Order_of_operations)\n",
    "\n",
    "print(2*4-8+3/2)"
   ]
  },
  {
   "cell_type": "code",
   "execution_count": 12,
   "id": "5550385a",
   "metadata": {},
   "outputs": [
    {
     "name": "stdout",
     "output_type": "stream",
     "text": [
      "8\n"
     ]
    }
   ],
   "source": [
    "Increment = 6\n",
    "Increment += 2\n",
    "print (Increment)"
   ]
  },
  {
   "cell_type": "code",
   "execution_count": 13,
   "id": "84b2b2ff",
   "metadata": {},
   "outputs": [
    {
     "name": "stdout",
     "output_type": "stream",
     "text": [
      "4\n"
     ]
    }
   ],
   "source": [
    "Increment -= 4\n",
    "print(Increment)"
   ]
  },
  {
   "cell_type": "code",
   "execution_count": 14,
   "id": "bcbf58a6",
   "metadata": {},
   "outputs": [
    {
     "name": "stdout",
     "output_type": "stream",
     "text": [
      "True\n",
      "False\n",
      "True\n",
      "True\n",
      "True\n"
     ]
    }
   ],
   "source": [
    "print (10 < 20) # 10 is less than 20 is TRUE\n",
    "print (True and False)\n",
    "print (True or False)\n",
    "print (True and not False)\n",
    "print (True or not False)"
   ]
  },
  {
   "cell_type": "code",
   "execution_count": 15,
   "id": "0bf065e4",
   "metadata": {},
   "outputs": [
    {
     "name": "stdout",
     "output_type": "stream",
     "text": [
      "UPPER CASE\n",
      "lower case\n"
     ]
    }
   ],
   "source": [
    "small = \"upper case\"\n",
    "print(small.upper())\n",
    "\n",
    "large = \"LOWER CASE\"\n",
    "print(large.lower())\n"
   ]
  },
  {
   "cell_type": "code",
   "execution_count": 16,
   "id": "087fdd8b",
   "metadata": {},
   "outputs": [
    {
     "name": "stdout",
     "output_type": "stream",
     "text": [
      "Remove the space at the end    \n",
      "Remove the space at the end\n"
     ]
    }
   ],
   "source": [
    "line = \"Remove the space at the end    \"\n",
    "print(line)\n",
    "print(line.rstrip())\n"
   ]
  },
  {
   "cell_type": "code",
   "execution_count": 17,
   "id": "08314aef",
   "metadata": {},
   "outputs": [
    {
     "name": "stdout",
     "output_type": "stream",
     "text": [
      "120\n"
     ]
    }
   ],
   "source": [
    "percentage = '120%'\n",
    "print(percentage.rstrip('%')) "
   ]
  },
  {
   "cell_type": "code",
   "execution_count": 18,
   "id": "2eead580",
   "metadata": {},
   "outputs": [
    {
     "name": "stdout",
     "output_type": "stream",
     "text": [
      "   Remove the space at the beginning\n",
      "Remove the space at the beginning\n"
     ]
    }
   ],
   "source": [
    "begin = \"   Remove the space at the beginning\"\n",
    "print(begin)\n",
    "print(begin.lstrip())"
   ]
  },
  {
   "cell_type": "code",
   "execution_count": 19,
   "id": "a16d342d",
   "metadata": {},
   "outputs": [
    {
     "name": "stdout",
     "output_type": "stream",
     "text": [
      "   Trim whitespaces  \n",
      "Trim whitespaces\n"
     ]
    }
   ],
   "source": [
    "trim = \"   Trim whitespaces  \"\n",
    "print(trim)\n",
    "print(trim.strip())"
   ]
  },
  {
   "cell_type": "code",
   "execution_count": 20,
   "id": "6bf55cc0",
   "metadata": {},
   "outputs": [
    {
     "name": "stdout",
     "output_type": "stream",
     "text": [
      "444\n"
     ]
    }
   ],
   "source": [
    "num_chars = '*444#'\n",
    "print(num_chars.rstrip('#').lstrip('*'))"
   ]
  },
  {
   "cell_type": "code",
   "execution_count": 21,
   "id": "eda8130c",
   "metadata": {},
   "outputs": [
    {
     "name": "stdout",
     "output_type": "stream",
     "text": [
      "number of apples is 2\n"
     ]
    }
   ],
   "source": [
    "fruits = \"2 apples\"\n",
    "no_of_apples = fruits[0] \n",
    "print('number of apples is', no_of_apples)\n"
   ]
  },
  {
   "cell_type": "code",
   "execution_count": 22,
   "id": "8ef572b6",
   "metadata": {},
   "outputs": [
    {
     "name": "stdout",
     "output_type": "stream",
     "text": [
      "apples\n"
     ]
    }
   ],
   "source": [
    "again = fruits[2:]\n",
    "print(again)"
   ]
  },
  {
   "cell_type": "code",
   "execution_count": 23,
   "id": "1d07d268",
   "metadata": {},
   "outputs": [
    {
     "name": "stdout",
     "output_type": "stream",
     "text": [
      "app\n"
     ]
    }
   ],
   "source": [
    "#slicing by specifying start and end index\n",
    "print(fruits[2:5])\n"
   ]
  },
  {
   "cell_type": "code",
   "execution_count": 24,
   "id": "3d5ea404",
   "metadata": {},
   "outputs": [
    {
     "name": "stdout",
     "output_type": "stream",
     "text": [
      "5 oranges\n"
     ]
    }
   ],
   "source": [
    "fruits_list = \"5 oranges 3 monkeys n\"\n",
    "fruits = fruits_list[ :9]\n",
    "print(fruits)"
   ]
  },
  {
   "cell_type": "code",
   "execution_count": 25,
   "id": "ab992c11",
   "metadata": {},
   "outputs": [
    {
     "name": "stdout",
     "output_type": "stream",
     "text": [
      "5 oranges 3 monkeys\n"
     ]
    }
   ],
   "source": [
    "print(fruits_list[ :-2])"
   ]
  },
  {
   "cell_type": "code",
   "execution_count": 26,
   "id": "7b6ba878",
   "metadata": {},
   "outputs": [
    {
     "name": "stdout",
     "output_type": "stream",
     "text": [
      "3 monkeys\n"
     ]
    }
   ],
   "source": [
    "animal = fruits_list[10:-2]\n",
    "print(animal)"
   ]
  },
  {
   "cell_type": "code",
   "execution_count": 27,
   "id": "ac9848f5",
   "metadata": {},
   "outputs": [
    {
     "name": "stdout",
     "output_type": "stream",
     "text": [
      "2468\n"
     ]
    }
   ],
   "source": [
    "number = '123456789'\n",
    "even_number = number[1::2]\n",
    "print(even_number)"
   ]
  },
  {
   "cell_type": "code",
   "execution_count": 28,
   "id": "376d892d",
   "metadata": {},
   "outputs": [
    {
     "name": "stdout",
     "output_type": "stream",
     "text": [
      "13579\n"
     ]
    }
   ],
   "source": [
    "odd_number = number[0::2]\n",
    "print(odd_number)"
   ]
  },
  {
   "cell_type": "code",
   "execution_count": 29,
   "id": "b1f3e923",
   "metadata": {},
   "outputs": [
    {
     "name": "stdout",
     "output_type": "stream",
     "text": [
      "13579\n"
     ]
    }
   ],
   "source": [
    "odd_number_repeat = number[ :: 2]\n",
    "print(odd_number_repeat)"
   ]
  },
  {
   "cell_type": "code",
   "execution_count": 30,
   "id": "bb96b24d",
   "metadata": {},
   "outputs": [],
   "source": [
    "firstname = \"James\"\n",
    "lastname = 'Bond'"
   ]
  },
  {
   "cell_type": "code",
   "execution_count": 31,
   "id": "6c9fc4c0",
   "metadata": {},
   "outputs": [
    {
     "name": "stdout",
     "output_type": "stream",
     "text": [
      "James Bond\n"
     ]
    }
   ],
   "source": [
    "names = firstname + \" \" + lastname\n",
    "print(names)"
   ]
  },
  {
   "cell_type": "code",
   "execution_count": 32,
   "id": "097f8764",
   "metadata": {},
   "outputs": [
    {
     "name": "stdout",
     "output_type": "stream",
     "text": [
      "I am 24 years old\n"
     ]
    }
   ],
   "source": [
    "ages = 24\n",
    "my_age = (\"I am \"+ str(ages) + \" years old\")\n",
    "print(my_age)"
   ]
  },
  {
   "cell_type": "code",
   "execution_count": 33,
   "id": "d477e75d",
   "metadata": {},
   "outputs": [
    {
     "name": "stdout",
     "output_type": "stream",
     "text": [
      "I am 24 years old\n"
     ]
    }
   ],
   "source": [
    "Format_age = \"I am {0} years old\".format(ages) \n",
    "print(Format_age)"
   ]
  },
  {
   "cell_type": "code",
   "execution_count": 34,
   "id": "ae4c2b59",
   "metadata": {},
   "outputs": [
    {
     "name": "stdout",
     "output_type": "stream",
     "text": [
      "Welcome to World of using Python coding\n"
     ]
    }
   ],
   "source": [
    "A = \"Welcome to\"\n",
    "B = \"World of\"\n",
    "C = \"Python coding\"\n",
    "\n",
    "print(\"{0} {1} using {2}\".format(A,B,C))\n"
   ]
  },
  {
   "cell_type": "code",
   "execution_count": 35,
   "id": "627f204e",
   "metadata": {},
   "outputs": [
    {
     "name": "stdout",
     "output_type": "stream",
     "text": [
      "James Bond I am 24 years old\n"
     ]
    }
   ],
   "source": [
    "#concat and update\n",
    "names += ' ' + my_age\n",
    "print(names)"
   ]
  }
 ],
 "metadata": {
  "anaconda-cloud": {},
  "kernelspec": {
   "display_name": "Python 3",
   "language": "python",
   "name": "python3"
  },
  "language_info": {
   "codemirror_mode": {
    "name": "ipython",
    "version": 3
   },
   "file_extension": ".py",
   "mimetype": "text/x-python",
   "name": "python",
   "nbconvert_exporter": "python",
   "pygments_lexer": "ipython3",
   "version": "3.8.8"
  }
 },
 "nbformat": 4,
 "nbformat_minor": 5
}
